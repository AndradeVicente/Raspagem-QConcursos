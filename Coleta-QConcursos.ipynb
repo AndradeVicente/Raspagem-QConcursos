{
 "cells": [
  {
   "cell_type": "markdown",
   "id": "27c6b67f",
   "metadata": {},
   "source": [
    "## APS da matéria \"ANÁLISE DE TEXTO DE FONTES DESESTRUTURADAS E WEB\"\n",
    "\n",
    "Integrantes do grupo:\n",
    "\n",
    "- Antônio Vicente Fernandes de Andrade  \n",
    "- Maria Eduarda Santos Silva  \n",
    "- Sarah Midori"
   ]
  },
  {
   "cell_type": "markdown",
   "id": "dfeb5a8b",
   "metadata": {},
   "source": [
    "# Raspagem e classificação de questões de matemática do ENEM"
   ]
  },
  {
   "cell_type": "markdown",
   "id": "7254dac8",
   "metadata": {},
   "source": [
    "# introdução"
   ]
  },
  {
   "cell_type": "markdown",
   "id": "c86ae581",
   "metadata": {},
   "source": [
    "O Exame Nacional do Ensino Médio (ENEM) é uma das principais portas de entrada para o ensino superior no Brasil. No entanto, muitos estudantes enfrentam dificuldades em organizar seus estudos de forma eficiente, especialmente na disciplina de Matemática, cujos conteúdos são amplos e variados. Nesse contexto, identificar os temas centrais das questões pode ser uma estratégia pedagógica poderosa, permitindo que o aluno concentre seus esforços nas áreas com maior incidência ou dificuldade.\n",
    "\n",
    "Este projeto propõe o desenvolvimento de um modelo de classificação automática de questões de Matemática do ENEM com base em seus enunciados. A partir da raspagem de mais de 1.500 questões reais da plataforma QConcursos, construímos uma base de dados estruturada e implementamos um modelo de aprendizado de máquina capaz de prever, com base no texto da questão, quais são os temas centrais abordados — como Geometria, Álgebra, Estatística, entre outros.\n",
    "\n",
    "A solução tem como objetivo final apoiar estudantes no processo de preparação para o ENEM, sugerindo tópicos de estudo a partir das características das próprias questões. O uso de técnicas de Web Scraping, processamento de linguagem natural (NLP) e classificação multilabel permite não apenas automatizar esse processo, mas também abrir caminho para soluções educacionais mais personalizadas e acessíveis."
   ]
  },
  {
   "cell_type": "markdown",
   "id": "913f9eb6",
   "metadata": {},
   "source": [
    "# Problema"
   ]
  },
  {
   "cell_type": "markdown",
   "id": "3619fc0d",
   "metadata": {},
   "source": [
    "Estudantes que se preparam para o ENEM frequentemente enfrentam dificuldades para identificar quais temas da disciplina de Matemática precisam priorizar em seus estudos. As provas abordam uma ampla variedade de tópicos — como Geometria, Álgebra, Estatística, Funções, entre outros — e os enunciados nem sempre deixam explícito a que tema a questão pertence. Com isso, o aluno perde tempo tentando classificar o conteúdo manualmente ou acaba estudando de forma desorganizada e pouco eficiente.\n",
    "\n",
    "Além disso, plataformas de estudo e bancos de questões, embora ofereçam filtros por assunto, não são necessariamente consistentes ou acessíveis para todos, especialmente quando os temas das questões estão classificados de maneira genérica ou imprecisa. Falta uma ferramenta acessível que ajude o estudante a identificar automaticamente os temas centrais de cada questão com base apenas no enunciado, otimizando o tempo de estudo e promovendo uma preparação mais focada.\n",
    "\n",
    "Este projeto busca justamente atacar esse problema: como automatizar a identificação do(s) tema(s) principal(is) de uma questão de Matemática do ENEM a partir de seu enunciado, de forma confiável, usando scraping de dados reais e técnicas de aprendizado de máquina?"
   ]
  },
  {
   "cell_type": "markdown",
   "id": "4eeebeb2",
   "metadata": {},
   "source": [
    "# Extração de dados"
   ]
  },
  {
   "cell_type": "markdown",
   "id": "55bf2059",
   "metadata": {},
   "source": [
    "Para construir uma base robusta de questões de Matemática do ENEM, foi realizada uma extração automatizada de dados por meio da técnica de Web Scraping. Utilizamos a biblioteca Selenium, em conjunto com o navegador Chrome em modo automatizado, para acessar e navegar pelo site QConcursos, uma das maiores plataformas online de questões de provas do ENEM anteriores.O processo envolveu a raspagem de 75 páginas da seção de questões de Matemática do ENEM, totalizando mais de 1.500 questões únicas. Para cada questão, foram extraídos os seguintes campos:\n",
    "\n",
    "ID da questão: identificação única fornecida pela plataforma;\n",
    "Ano da prova: permite análises por período;\n",
    "Assunto(s): classificação fornecida pelo site;\n",
    "Enunciado: corpo principal da questão, utilizado como entrada para o modelo.\n",
    "\n",
    "As informações foram coletadas por meio de seletores HTML com o uso de comandos do Selenium, respeitando o tempo de carregamento de cada página para evitar bloqueios ou perdas de informação. Após a coleta, os dados foram armazenados em um DataFrame do pandas para facilitar a manipulação, limpeza e modelagem posterior."
   ]
  },
  {
   "cell_type": "markdown",
   "id": "89975bef",
   "metadata": {},
   "source": [
    "Bibliotecas"
   ]
  },
  {
   "cell_type": "code",
   "execution_count": null,
   "id": "9744c2d3",
   "metadata": {},
   "outputs": [],
   "source": [
    "from selenium import webdriver\n",
    "from selenium.webdriver.chrome.service import Service\n",
    "from selenium.webdriver.common.by import By\n",
    "from webdriver_manager.chrome import ChromeDriverManager\n",
    "import pandas as pd\n",
    "import time\n",
    "\n",
    "\n",
    "from sklearn.pipeline import Pipeline\n",
    "from sklearn.model_selection import train_test_split\n",
    "from sklearn.feature_extraction.text import TfidfVectorizer\n",
    "from sklearn.preprocessing import MultiLabelBinarizer\n",
    "from sklearn.linear_model import LogisticRegression\n",
    "from sklearn.multiclass import OneVsRestClassifier\n",
    "from sklearn.metrics import roc_curve, auc\n",
    "import matplotlib.pyplot as plt\n",
    "from sklearn.preprocessing import label_binarize\n",
    "import numpy as np\n",
    "from sklearn.metrics import f1_score, accuracy_score, hamming_loss, classification_report\n"
   ]
  },
  {
   "cell_type": "markdown",
   "id": "c9f0286d",
   "metadata": {},
   "source": [
    "Ajustando o Selenium"
   ]
  },
  {
   "cell_type": "code",
   "execution_count": 2,
   "id": "35f00c24",
   "metadata": {},
   "outputs": [],
   "source": [
    "options = webdriver.ChromeOptions()\n",
    "options.add_argument('--no-sandbox')\n",
    "options.add_argument('--disable-dev-shm-usage')\n",
    "\n",
    "driver = webdriver.Chrome(service=Service(ChromeDriverManager().install()), options=options)\n",
    "driver.set_page_load_timeout(60)\n"
   ]
  },
  {
   "cell_type": "markdown",
   "id": "df543c4e",
   "metadata": {},
   "source": [
    "Raspando os dados do site"
   ]
  },
  {
   "cell_type": "code",
   "execution_count": 3,
   "id": "5ea5ffde",
   "metadata": {},
   "outputs": [
    {
     "name": "stdout",
     "output_type": "stream",
     "text": [
      "Raspando página 1...\n",
      "Raspando página 2...\n",
      "Raspando página 3...\n",
      "Raspando página 4...\n",
      "Raspando página 5...\n",
      "Raspando página 6...\n",
      "Raspando página 7...\n",
      "Raspando página 8...\n",
      "Raspando página 9...\n",
      "Raspando página 10...\n",
      "Raspando página 11...\n",
      "Raspando página 12...\n",
      "Raspando página 13...\n",
      "Raspando página 14...\n",
      "Raspando página 15...\n",
      "Raspando página 16...\n",
      "Raspando página 17...\n",
      "Raspando página 18...\n",
      "Raspando página 19...\n",
      "Raspando página 20...\n",
      "Raspando página 21...\n",
      "Raspando página 22...\n",
      "Raspando página 23...\n",
      "Raspando página 24...\n",
      "Raspando página 25...\n",
      "Raspando página 26...\n",
      "Raspando página 27...\n",
      "Raspando página 28...\n",
      "Raspando página 29...\n",
      "Raspando página 30...\n",
      "Raspando página 31...\n",
      "Raspando página 32...\n",
      "Raspando página 33...\n",
      "Raspando página 34...\n",
      "Raspando página 35...\n",
      "Raspando página 36...\n",
      "Raspando página 37...\n",
      "Raspando página 38...\n",
      "Raspando página 39...\n",
      "Raspando página 40...\n",
      "Raspando página 41...\n",
      "Raspando página 42...\n",
      "Raspando página 43...\n",
      "Raspando página 44...\n",
      "Raspando página 45...\n",
      "Raspando página 46...\n",
      "Raspando página 47...\n",
      "Raspando página 48...\n",
      "Raspando página 49...\n",
      "Raspando página 50...\n",
      "Raspando página 51...\n",
      "Raspando página 52...\n",
      "Raspando página 53...\n",
      "Raspando página 54...\n",
      "Raspando página 55...\n",
      "Raspando página 56...\n",
      "Raspando página 57...\n",
      "Raspando página 58...\n",
      "Raspando página 59...\n",
      "Raspando página 60...\n",
      "Raspando página 61...\n",
      "Raspando página 62...\n",
      "Raspando página 63...\n",
      "Raspando página 64...\n",
      "Raspando página 65...\n",
      "Raspando página 66...\n",
      "Raspando página 67...\n",
      "Raspando página 68...\n",
      "Raspando página 69...\n",
      "Raspando página 70...\n",
      "Raspando página 71...\n",
      "Raspando página 72...\n",
      "Raspando página 73...\n",
      "Raspando página 74...\n",
      "Raspando página 75...\n"
     ]
    },
    {
     "data": {
      "text/html": [
       "<div>\n",
       "<style scoped>\n",
       "    .dataframe tbody tr th:only-of-type {\n",
       "        vertical-align: middle;\n",
       "    }\n",
       "\n",
       "    .dataframe tbody tr th {\n",
       "        vertical-align: top;\n",
       "    }\n",
       "\n",
       "    .dataframe thead th {\n",
       "        text-align: right;\n",
       "    }\n",
       "</style>\n",
       "<table border=\"1\" class=\"dataframe\">\n",
       "  <thead>\n",
       "    <tr style=\"text-align: right;\">\n",
       "      <th></th>\n",
       "      <th>id</th>\n",
       "      <th>Assunto</th>\n",
       "      <th>Ano</th>\n",
       "      <th>Enunciado</th>\n",
       "    </tr>\n",
       "  </thead>\n",
       "  <tbody>\n",
       "    <tr>\n",
       "      <th>0</th>\n",
       "      <td>Q3160721</td>\n",
       "      <td>Matemática, Aritmética e Problemas</td>\n",
       "      <td>2024</td>\n",
       "      <td>Um pintor pretende fazer uma reprodução do qua...</td>\n",
       "    </tr>\n",
       "    <tr>\n",
       "      <th>1</th>\n",
       "      <td>Q3160720</td>\n",
       "      <td>Matemática, Geometria Espacial ,, Pirâmides</td>\n",
       "      <td>2024</td>\n",
       "      <td>Um tanque de armazenamento de líquidos tem o f...</td>\n",
       "    </tr>\n",
       "    <tr>\n",
       "      <th>2</th>\n",
       "      <td>Q3160719</td>\n",
       "      <td>Matemática, Aritmética e Problemas ,, Porcenta...</td>\n",
       "      <td>2024</td>\n",
       "      <td>O dono de dois cachorrinhos, um shitzu e um po...</td>\n",
       "    </tr>\n",
       "    <tr>\n",
       "      <th>3</th>\n",
       "      <td>Q3160718</td>\n",
       "      <td>Matemática, Aritmética e Problemas</td>\n",
       "      <td>2024</td>\n",
       "      <td>Na planta baixa de uma casa, um quarto retangu...</td>\n",
       "    </tr>\n",
       "    <tr>\n",
       "      <th>4</th>\n",
       "      <td>Q3160717</td>\n",
       "      <td>Matemática, Progressões ,, Progressão Aritméti...</td>\n",
       "      <td>2024</td>\n",
       "      <td>É comum pensarmos na equivalência entre a idad...</td>\n",
       "    </tr>\n",
       "    <tr>\n",
       "      <th>...</th>\n",
       "      <td>...</td>\n",
       "      <td>...</td>\n",
       "      <td>...</td>\n",
       "      <td>...</td>\n",
       "    </tr>\n",
       "    <tr>\n",
       "      <th>1495</th>\n",
       "      <td>Q174033</td>\n",
       "      <td>Matemática, Aritmética e Problemas ,, Raciocín...</td>\n",
       "      <td>2007</td>\n",
       "      <td>Considere-se que cada tonelada de cana-de-açúc...</td>\n",
       "    </tr>\n",
       "    <tr>\n",
       "      <th>1496</th>\n",
       "      <td>Q174030</td>\n",
       "      <td>Matemática, Análise Combinatória em Matemática</td>\n",
       "      <td>2007</td>\n",
       "      <td>Deseja-se realizar um estudo comparativo entre...</td>\n",
       "    </tr>\n",
       "    <tr>\n",
       "      <th>1497</th>\n",
       "      <td>Q174029</td>\n",
       "      <td>Matemática, Análise de Tabelas e Gráficos</td>\n",
       "      <td>2007</td>\n",
       "      <td>O gráfico abaixo, obtido a partir de dados do ...</td>\n",
       "    </tr>\n",
       "    <tr>\n",
       "      <th>1498</th>\n",
       "      <td>Q174027</td>\n",
       "      <td>Matemática, Aritmética e Problemas</td>\n",
       "      <td>2007</td>\n",
       "      <td>Considere que um marceneiro tenha encontrado a...</td>\n",
       "    </tr>\n",
       "    <tr>\n",
       "      <th>1499</th>\n",
       "      <td>Q173879</td>\n",
       "      <td>Matemática, Aritmética e Problemas ,, Geometri...</td>\n",
       "      <td>2006</td>\n",
       "      <td>Na figura acima, que representa o projeto de u...</td>\n",
       "    </tr>\n",
       "  </tbody>\n",
       "</table>\n",
       "<p>1500 rows × 4 columns</p>\n",
       "</div>"
      ],
      "text/plain": [
       "            id                                            Assunto   Ano  \\\n",
       "0     Q3160721                 Matemática, Aritmética e Problemas  2024   \n",
       "1     Q3160720        Matemática, Geometria Espacial ,, Pirâmides  2024   \n",
       "2     Q3160719  Matemática, Aritmética e Problemas ,, Porcenta...  2024   \n",
       "3     Q3160718                 Matemática, Aritmética e Problemas  2024   \n",
       "4     Q3160717  Matemática, Progressões ,, Progressão Aritméti...  2024   \n",
       "...        ...                                                ...   ...   \n",
       "1495   Q174033  Matemática, Aritmética e Problemas ,, Raciocín...  2007   \n",
       "1496   Q174030     Matemática, Análise Combinatória em Matemática  2007   \n",
       "1497   Q174029          Matemática, Análise de Tabelas e Gráficos  2007   \n",
       "1498   Q174027                 Matemática, Aritmética e Problemas  2007   \n",
       "1499   Q173879  Matemática, Aritmética e Problemas ,, Geometri...  2006   \n",
       "\n",
       "                                              Enunciado  \n",
       "0     Um pintor pretende fazer uma reprodução do qua...  \n",
       "1     Um tanque de armazenamento de líquidos tem o f...  \n",
       "2     O dono de dois cachorrinhos, um shitzu e um po...  \n",
       "3     Na planta baixa de uma casa, um quarto retangu...  \n",
       "4     É comum pensarmos na equivalência entre a idad...  \n",
       "...                                                 ...  \n",
       "1495  Considere-se que cada tonelada de cana-de-açúc...  \n",
       "1496  Deseja-se realizar um estudo comparativo entre...  \n",
       "1497  O gráfico abaixo, obtido a partir de dados do ...  \n",
       "1498  Considere que um marceneiro tenha encontrado a...  \n",
       "1499  Na figura acima, que representa o projeto de u...  \n",
       "\n",
       "[1500 rows x 4 columns]"
      ]
     },
     "execution_count": 3,
     "metadata": {},
     "output_type": "execute_result"
    }
   ],
   "source": [
    "\n",
    "questoes_data = []\n",
    "\n",
    "# Loop por pagina\n",
    "for page in range(1, 76): \n",
    "    print(f\"Raspando página {page}...\")\n",
    "    url = f\"https://www.qconcursos.com/questoes-do-enem/disciplinas/matematica-matematica/questoes?page={page}\"\n",
    "    driver.get(url)\n",
    "    time.sleep(3)  \n",
    "\n",
    "    questoes = driver.find_elements(By.CSS_SELECTOR, \"div.js-question-item.q-question-item\")\n",
    "\n",
    "    for questao in questoes:\n",
    "        header = questao.find_element(By.CLASS_NAME, \"q-question-header\")\n",
    "\n",
    "        cod_questao = header.find_element(By.CLASS_NAME, \"q-id\").text.strip()\n",
    "\n",
    "\n",
    "        assunto_tags = header.find_elements(By.CLASS_NAME, \"q-link\")\n",
    "        assunto = ', '.join([tag.text.strip() for tag in assunto_tags])\n",
    "\n",
    "        info = questao.find_element(By.CLASS_NAME, \"q-question-info\")\n",
    "        ano = info.find_element(By.TAG_NAME, \"span\").text.strip().split(\":\")[-1].strip()\n",
    "\n",
    "        enunciado = questao.find_element(By.CLASS_NAME, \"q-question-enunciation\").text.strip()\n",
    "\n",
    "        questoes_data.append({\n",
    "            \"id\" : cod_questao,\n",
    "            \"Assunto\": assunto,\n",
    "            \"Ano\": ano,\n",
    "            \"Enunciado\": enunciado\n",
    "            })\n",
    "\n",
    "driver.quit()\n",
    "\n",
    "\n",
    "df_raw = pd.DataFrame(questoes_data)\n",
    "\n",
    "df_raw"
   ]
  },
  {
   "cell_type": "markdown",
   "id": "84a4008d",
   "metadata": {},
   "source": [
    "Tratamento basico dos dados. \n",
    "Retirando alguns erros de vírgulas, espaços e as repetições desnecessárias do assunto \"matemática\", contido em todas as questões."
   ]
  },
  {
   "cell_type": "code",
   "execution_count": 52,
   "id": "50bb5c26",
   "metadata": {},
   "outputs": [],
   "source": [
    "df = df_raw.loc[:, ~(df_raw == '').all()]\n",
    "df = df[df['Enunciado'].str.strip() != '']\n",
    "\n",
    "df['Assuntos_lista'] = df['Assunto'].str.replace(\",,\", \",\") \\\n",
    "                                    .str.replace(\" ,\", \",\") \\\n",
    "                                    .str.replace(\", \", \",\") \\\n",
    "                                    .str.strip() \\\n",
    "                                    .apply(lambda x: [tema.strip() for tema in x.split(\",\") if tema.strip().lower() != 'matemática'])\n",
    "\n"
   ]
  },
  {
   "cell_type": "markdown",
   "id": "46491eac",
   "metadata": {},
   "source": [
    "O primeiro passo do modelo classificador é definir quais são as classes que ele deve identificar em cada questão.\n",
    "\n",
    "Para isso, foi necessário agrupar os assuntos específicos em categorias mais amplas. Essa escolha se justifica, como será explicado adiante, pela forma como o TF-IDF atribui peso às palavras: termos que aparecem em muitas classes diferentes perdem relevância.\n",
    "Por exemplo, se mantivermos classes como “Pirâmides”, “Cones” e “Geometria Espacial” separadas, palavras relacionadas à geometria, apesar de serem muito importantes para identificar questões de geometria, aparecerão em várias classes e, portanto, terão seu peso reduzido pelo TF-IDF. Ao unificá-las sob uma categoria geral como “Geometria”, garantimos que essas palavras mantenham seu valor discriminativo no processo de classificação."
   ]
  },
  {
   "cell_type": "code",
   "execution_count": 53,
   "id": "3f2e0f5a",
   "metadata": {},
   "outputs": [
    {
     "data": {
      "text/plain": [
       "array(['Aritmética e Problemas', 'Geometria Espacial', 'Pirâmides',\n",
       "       'Porcentagem', 'Análise de Tabelas e Gráficos', 'Progressões',\n",
       "       'Progressão Aritmética - PA', 'Regra de Três', 'Cilindro', '',\n",
       "       'Funções', 'Função de 1º Grau ou Função Afim',\n",
       "       'Problemas com Equação e Inequações', 'Função Exponencial',\n",
       "       'Álgebra', 'Problemas', 'Física Matemática', 'Geometria Plana',\n",
       "       'Áreas e Perímetros', 'Razão e Proporção; e Números Proporcionais',\n",
       "       'Médias', 'Poliedros', 'Probabilidade', 'Potência',\n",
       "       'Equação Logarítmica', 'Triângulos', 'Geometria Analítica',\n",
       "       'Sistema de Unidade de Medidas', 'Matemática Financeira',\n",
       "       'Sistemas de Numeração e Operações Fundamentais',\n",
       "       'Análise Combinatória em Matemática', 'Polígonos Regulares',\n",
       "       'Frações e Números Decimais', 'Circunferências e Círculos',\n",
       "       'Estatística', 'Cone', 'Equação de 2º Grau e Problemas de 2º Grau',\n",
       "       'Esfera', 'Matrizes', 'Álgebra Linear', 'Trigonometria',\n",
       "       'Raciocínio Lógico', 'Prismas',\n",
       "       'Função de 2º Grau ou Função Quadrática e Inequações',\n",
       "       'Circunferências', 'Ângulos - Lei Angular de Thales',\n",
       "       'Progressão Geométrica - PG', 'Quadriláteros', 'Logaritmos',\n",
       "       'Sistemas Lineares', 'Polígonos', 'Pontos e Retas', 'Radical',\n",
       "       'Funções Trigonométricas e Funções Trigonométricas Inversas',\n",
       "       'Cônicas', 'Álgebra Linear - Equações Lineares',\n",
       "       'Espaço Vetorial e Transformações Lineares e Matrizes',\n",
       "       'Algoritmo', 'Estudo da Reta', 'Juros Simples',\n",
       "       'Relações Métricas no Triângulo Retângulo',\n",
       "       'Círculo Trigonométrico', 'Inequação Logarítmica', 'Elipse',\n",
       "       'MMC e MDC', 'Números Primos e Divisibilidade',\n",
       "       'Semelhança de Triângulo', 'Função Logarítmica'], dtype=object)"
      ]
     },
     "execution_count": 53,
     "metadata": {},
     "output_type": "execute_result"
    }
   ],
   "source": [
    "df['Assuntos_lista'].explode().unique()\n"
   ]
  },
  {
   "cell_type": "code",
   "execution_count": null,
   "id": "f36ea165",
   "metadata": {},
   "outputs": [
    {
     "data": {
      "text/plain": [
       "array(['Aritmetica', 'Geometria', 'Porcentagem',\n",
       "       'Estatistica/Probabilidade', 'Progressoes', 'Algebra', 'Funcoes',\n",
       "       'Fisica Matematica', 'Financeira', 'Logica', 'Matrizes'],\n",
       "      dtype=object)"
      ]
     },
     "execution_count": 89,
     "metadata": {},
     "output_type": "execute_result"
    }
   ],
   "source": [
    "progressoes = [\n",
    "    \"Progressões\", \n",
    "    \"Progressão Aritmética - PA\", \n",
    "    \"Progressão Geométrica - PG\", \n",
    "    \"Regra de Três\", \n",
    "    \"Razão e Proporção\", \n",
    "    \"Razão e Proporção; e Números Proporcionais\",  \n",
    "    \"Proporcionalidade\"\n",
    "]\n",
    "\n",
    "geometria = [\n",
    "    \"Geometria\", \n",
    "    \"Geometria Analítica\", \n",
    "    \"Polígonos\",  \n",
    "    \"Trigonometria\",\n",
    "    \"Polígonos Regulares\", \n",
    "    \"Geometria Plana\", \n",
    "    \"Geometria Espacial\", \n",
    "    \"Pirâmides\", \"Cilindro\", \"Áreas e Perímetros\", \"Poliedros\", \"Triângulos\",\n",
    "    \"Circunferências e Círculos\", \"Cone\", \"Esfera\", \"Prismas\", \"Circunferências\",\n",
    "    \"Ângulos - Lei Angular de Thales\", \"Quadriláteros\", \"Pontos e Retas\", \"Cônicas\",\n",
    "    \"Estudo da Reta\", \"Círculo Trigonométrico\", \"Elipse\", \"Semelhança de Triângulo\",\n",
    "    \"Funções Trigonométricas e Funções Trigonométricas Inversas\",\n",
    "    \"Espaço Vetorial e Transformações Lineares e Matrizes\"\n",
    "]\n",
    "\n",
    "funcoes = [\n",
    "    \"Funções\", \n",
    "    \"Funcoes\",  \n",
    "    \"Função Exponencial\", \"Função Logarítmica\", \"Função Modular\", \"Função Inversa\",\n",
    "    \"Função de 1º Grau ou Função Afim\", \n",
    "    \"Função de 2º Grau ou Função Quadrática e Inequações\", \n",
    "    \"Sistemas Lineares\", \n",
    "    \"Álgebra Linear - Equações Lineares\", \"Algoritmo\"\n",
    "]\n",
    "\n",
    "algebra = [\n",
    "    \"Álgebra\", \n",
    "    \"Algebra\",\n",
    "    \"Equação Logarítmica\", \n",
    "    \"Inequação Logarítmica\", \n",
    "    \"Radical\", \n",
    "    \"Logaritmos\", \n",
    "    \"Problemas com Equação e Inequações\", \n",
    "    \"Equação de 2º Grau e Problemas de 2º Grau\", \n",
    "    \"Problemas\", \n",
    "    \"Inequações\", \n",
    "    \"Álgebra Linear\"\n",
    "]\n",
    "\n",
    "aritmetica = [\n",
    "    \"Aritmética\",\n",
    "    \"Aritmética e Problemas\", \n",
    "    \"MMC e MDC\", \n",
    "    \"Números Primos e Divisibilidade\", \n",
    "    \"Frações e Números Decimais\", \n",
    "    \"Sistema de Unidade de Medidas\", \n",
    "    \"Médias\", \n",
    "    \"Potência\",  \n",
    "    \"Relações Métricas no Triângulo Retângulo\",  \n",
    "    \"Sistemas de Numeração e Operações Fundamentais\"\n",
    "]\n",
    "\n",
    "matematica_financeira = [\n",
    "    \"Financeira\",  \n",
    "    \"Juros Simples\", \n",
    "    \"Matemática Financeira\"\n",
    "]\n",
    "\n",
    "estatistica = [\n",
    "    \"Estatística\", \n",
    "    \"Estatistica/Probabilidade\",  \n",
    "    \"Probabilidade\", \n",
    "    \"Análise de Tabelas e Gráficos\"\n",
    "]\n",
    "\n",
    "logica = [\n",
    "    \"Lógica\", \n",
    "    \"Raciocínio Lógico\", \n",
    "    \"Análise Combinatória em Matemática\"\n",
    "]\n",
    "\n",
    "matrizes = [\n",
    "    \"Matrizes\"\n",
    "]\n",
    "\n",
    "fisica_matematica = [\n",
    "    \"Física Matemática\"\n",
    "]\n",
    "\n",
    "\n",
    "df['Tema_Geral'] = df['Assuntos_lista'].apply(\n",
    "    lambda subtemas: list(set(\n",
    "        [\"Progressoes\" if s in progressoes else\n",
    "         \"Geometria\" if s in geometria else\n",
    "         \"Funcoes\" if s in funcoes else\n",
    "         \"Algebra\" if s in algebra else\n",
    "         \"Aritmetica\" if s in aritmetica else\n",
    "         \"Financeira\" if s in matematica_financeira else\n",
    "         \"Estatistica/Probabilidade\" if s in estatistica else\n",
    "         \"Logica\" if s in logica else\n",
    "         \"Matrizes\" if s in matrizes else\n",
    "         \"Fisica Matematica\" if s in fisica_matematica else\n",
    "         s\n",
    "         for s in subtemas]\n",
    "    ))\n",
    ")\n",
    "\n",
    "\n",
    "df['Tema_Geral'] = df['Tema_Geral'].apply(lambda x: [tema for tema in x if tema != ''])\n",
    "\n",
    "df['Tema_Geral'].explode().unique()\n",
    "\n"
   ]
  },
  {
   "cell_type": "markdown",
   "id": "19ea9739",
   "metadata": {},
   "source": [
    "# Análise: criação modelo de regressão logística para multiclasses"
   ]
  },
  {
   "cell_type": "code",
   "execution_count": null,
   "id": "c6956c5e",
   "metadata": {},
   "outputs": [],
   "source": [
    "mlb = MultiLabelBinarizer()\n",
    "\n",
    "X = df['Enunciado']           \n",
    "y = mlb.fit_transform(df['Tema_Geral'])  \n"
   ]
  },
  {
   "cell_type": "markdown",
   "id": "3b6b9305",
   "metadata": {},
   "source": [
    "Aqui definimos as variáveis de entrada (X) e de saída (y).\n",
    "\n",
    "Os enunciados das questões (X) são textos que precisam ser transformados em números, isso será feito com o TfidfVectorizer, que extrai as palavras mais relevantes com base em frequência e especificidade.\n",
    "\n",
    "Já y representa os temas gerais de cada questão. Como uma questão pode ter mais de um tema, usamos MultiLabelBinarizer para transformar cada conjunto de temas em uma linha com múltiplas colunas binárias — uma para cada classe."
   ]
  },
  {
   "cell_type": "code",
   "execution_count": null,
   "id": "ab90e73d",
   "metadata": {},
   "outputs": [],
   "source": [
    "X_train, X_test, y_train, y_test = train_test_split(\n",
    "    X, y, test_size=0.1)"
   ]
  },
  {
   "cell_type": "markdown",
   "id": "ddace105",
   "metadata": {},
   "source": [
    "Separamos os dados em um conjunto para treinar o modelo (X_train, y_train) e outro para testá-lo (X_test, y_test).\n"
   ]
  },
  {
   "cell_type": "code",
   "execution_count": null,
   "id": "8ff1b7d0",
   "metadata": {},
   "outputs": [],
   "source": [
    "modelo = Pipeline([\n",
    "    ('tfidf', TfidfVectorizer(max_features=5000)),\n",
    "    ('clf', OneVsRestClassifier(LogisticRegression(max_iter=1000, C=5)))\n",
    "])"
   ]
  },
  {
   "cell_type": "markdown",
   "id": "c9feeb11",
   "metadata": {},
   "source": [
    "Primeiro, aplicamos o TfidfVectorizer (dentro do pipeline) para transformar os textos de entrada em vetores numéricos de tamanho até 5000.\n",
    "\n",
    "Em seguida, usamos o OneVsRestClassifier com LogisticRegression, que treina um modelo binário independente para cada classe. Necessário dado que estamos trabalhando com um problema em que cada questão pode ter mais de uma classe.\n"
   ]
  },
  {
   "cell_type": "code",
   "execution_count": null,
   "id": "55527a17",
   "metadata": {},
   "outputs": [],
   "source": [
    "modelo.fit(X_train, y_train)\n",
    "y_pred = modelo.predict(X_test)\n",
    "\n"
   ]
  },
  {
   "cell_type": "markdown",
   "id": "10aafd2a",
   "metadata": {},
   "source": [
    "Treinamos o pipeline completo com os dados de treino e, em seguida, usamos o modelo treinado para fazer previsões no conjunto de teste. O y_pred contém as classes previstas para cada questão.\n",
    "\n"
   ]
  },
  {
   "cell_type": "code",
   "execution_count": null,
   "id": "866fd6ab",
   "metadata": {},
   "outputs": [],
   "source": [
    "y_score = modelo.predict_proba(X_test)"
   ]
  },
  {
   "cell_type": "markdown",
   "id": "a144c55c",
   "metadata": {},
   "source": [
    "Ao invés de só prever 0 ou 1 para cada classe, aqui extraímos as probabilidades associadas a cada classe para cada questão.\n",
    "Essas probabilidades são fundamentais para construir curvas ROC, pois mostram como o modelo se comporta à medida que o limiar de decisão muda."
   ]
  },
  {
   "cell_type": "markdown",
   "id": "d0c01a59",
   "metadata": {},
   "source": [
    "# Conclusão"
   ]
  },
  {
   "cell_type": "markdown",
   "id": "055c7a94",
   "metadata": {},
   "source": [
    "### Curva ROC"
   ]
  },
  {
   "cell_type": "code",
   "execution_count": 105,
   "id": "0ae2accb",
   "metadata": {},
   "outputs": [
    {
     "name": "stdout",
     "output_type": "stream",
     "text": [
      "F1-score (macro): 0.1822\n",
      "Hamming Loss: 0.1090\n",
      "Accuracy Multilabel Exata: 0.2466\n",
      "                           precision    recall  f1-score   support\n",
      "\n",
      "                  Algebra       0.33      0.04      0.07        25\n",
      "               Aritmetica       0.69      0.51      0.59        49\n",
      "Estatistica/Probabilidade       0.77      0.45      0.57        38\n",
      "               Financeira       0.00      0.00      0.00         1\n",
      "        Fisica Matematica       0.00      0.00      0.00         3\n",
      "                  Funcoes       0.00      0.00      0.00        14\n",
      "                Geometria       0.74      0.61      0.67        33\n",
      "                   Logica       0.00      0.00      0.00        14\n",
      "                 Matrizes       0.00      0.00      0.00         5\n",
      "              Porcentagem       1.00      0.06      0.11        17\n",
      "              Progressoes       0.00      0.00      0.00        15\n",
      "\n",
      "                micro avg       0.72      0.30      0.42       214\n",
      "                macro avg       0.32      0.15      0.18       214\n",
      "             weighted avg       0.53      0.30      0.36       214\n",
      "              samples avg       0.41      0.34      0.36       214\n",
      "\n"
     ]
    },
    {
     "name": "stderr",
     "output_type": "stream",
     "text": [
      "c:\\Users\\Dr_An\\AppData\\Local\\Programs\\Python\\Python312\\Lib\\site-packages\\sklearn\\metrics\\_classification.py:1565: UndefinedMetricWarning: Precision is ill-defined and being set to 0.0 in labels with no predicted samples. Use `zero_division` parameter to control this behavior.\n",
      "  _warn_prf(average, modifier, f\"{metric.capitalize()} is\", len(result))\n",
      "c:\\Users\\Dr_An\\AppData\\Local\\Programs\\Python\\Python312\\Lib\\site-packages\\sklearn\\metrics\\_classification.py:1565: UndefinedMetricWarning: Precision is ill-defined and being set to 0.0 in samples with no predicted labels. Use `zero_division` parameter to control this behavior.\n",
      "  _warn_prf(average, modifier, f\"{metric.capitalize()} is\", len(result))\n"
     ]
    },
    {
     "data": {
      "image/png": "[encoded data removed]",
      "text/plain": [
       "<Figure size 1000x800 with 1 Axes>"
      ]
     },
     "metadata": {},
     "output_type": "display_data"
    }
   ],
   "source": [
    "f1 = f1_score(y_test, y_pred, average='macro')\n",
    "hamming = hamming_loss(y_test, y_pred)\n",
    "exact_acc = accuracy_score(y_test, y_pred)\n",
    "\n",
    "print(f\"F1-score (macro): {f1:.4f}\")\n",
    "print(f\"Hamming Loss: {hamming:.4f}\")\n",
    "print(f\"Accuracy Multilabel Exata: {exact_acc:.4f}\")\n",
    "\n",
    "print(classification_report(y_test, y_pred, target_names=mlb.classes_))\n",
    "\n",
    "\n",
    "n_classes = y_test.shape[1]\n",
    "plt.figure(figsize=(10, 8))\n",
    "\n",
    "for i in range(n_classes):\n",
    "    fpr, tpr, _ = roc_curve(y_test[:, i], y_score[:, i])\n",
    "    roc_auc = auc(fpr, tpr)\n",
    "    plt.plot(fpr, tpr, lw=2, label=f'{mlb.classes_[i]} (AUC = {roc_auc:.2f})')\n",
    "\n",
    "plt.plot([0, 1], [0, 1], color='navy', linestyle='--')\n",
    "\n",
    "plt.xlim([0.0, 1.0])\n",
    "plt.ylim([0.0, 1.05])\n",
    "plt.xlabel('False Positive Rate')\n",
    "plt.ylabel('True Positive Rate')\n",
    "plt.title('Curvas ROC por Classe')\n",
    "plt.legend(loc='lower right', fontsize='small')\n",
    "plt.grid(True)\n",
    "plt.tight_layout()\n",
    "plt.show()\n",
    "\n"
   ]
  },
  {
   "cell_type": "markdown",
   "id": "0a8ac1dd",
   "metadata": {},
   "source": [
    "Para avaliar o desempenho do modelo desenvolvido neste projeto, foi utilizada a análise das curvas ROC (Receiver Operating Characteristic) e o cálculo da AUC (Area Under the Curve) para cada uma das classes temáticas de Matemática. A curva ROC é uma representação gráfica que mostra a relação entre a taxa de verdadeiros positivos e a taxa de falsos positivos para diferentes limiares de decisão do classificador, ou seja, diferentes valores que definem a partir de qual probabilidade o modelo considera que uma questão pertence a determinado tema. Quanto mais próxima a curva estiver da borda superior esquerda do gráfico, melhor o desempenho do modelo na separação correta dos exemplos.\n",
    "\n",
    "A AUC quantifica essa performance: valores próximos de 0,5 indicam um desempenho aleatório, enquanto valores próximos de 1,0 indicam uma separação quase perfeita. Em termos práticos, quanto maior o valor da AUC, melhor a capacidade do modelo em distinguir corretamente os exemplos de uma classe em relação às demais.\n",
    "\n",
    "Os resultados obtidos foram bastante satisfatórios. Temas como Financeira (AUC = 0.94), Funções (AUC = 0.92), Geometria (AUC = 0.91) e Lógica (AUC = 0.87) apresentaram altos valores de AUC, demonstrando que o modelo foi eficiente em identificar essas categorias com base apenas no enunciado das questões. O tema Matrizes alcançou uma AUC de 1.00, indicando uma classificação perfeita; no entanto, esse resultado pode ser um sinal de sobreajuste. Sobreajuste ocorre quando o modelo aprende excessivamente os padrões específicos dos dados de treino, capturando detalhes particulares em vez de padrões generalizáveis, o que pode comprometer seu desempenho em dados novos. No caso de Matrizes, a quantidade reduzida de questões, combinada com a alta especificidade dos enunciados, facilitou para que o modelo memorizasse características muito particulares dessa categoria, levando ao AUC perfeito. Por outro lado, Física Matemática, que também apresentou poucos dados, obteve um AUC mais baixo (0.69). Isso pode ser explicado pelo fato de que os enunciados de Física Matemática não são tão distintos de outras áreas, o que torna a tarefa de separação mais difícil para o modelo, mesmo com poucos exemplos. Assim, enquanto Matrizes apresentou poucos dados com enunciados muito característicos, favorecendo a memorização, Física Matemática sofreu com poucos dados e enunciados menos específicos, dificultando a diferenciação e comprometendo a capacidade preditiva do modelo.\n",
    "\n",
    "Além da análise das curvas ROC e dos valores de AUC, o desempenho do modelo foi avaliado utilizando métricas como precisão (precision), revocação (recall) e F1-score para cada tema. A precisão mede a proporção de previsões corretas entre todas as previsões feitas para uma classe, enquanto a revocação indica a proporção de exemplos corretos identificados entre todos os exemplos reais daquela classe. O F1-score é a média harmônica entre precisão e revocação, oferecendo uma medida equilibrada entre essas duas métricas, especialmente útil quando há desequilíbrio entre classes.\n",
    "\n",
    "Os resultados indicam que temas como Geometria (F1-score = 0.67) e Aritmética (F1-score = 0.59) apresentaram os melhores desempenhos individuais, enquanto várias classes, como Funções, Lógica e Matrizes, obtiveram F1-score igual a zero, indicando que o modelo não conseguiu prever essas categorias no conjunto de teste. A acurácia multilabel exata foi de 24,66%, o que significa que o modelo acertou todas as classes de uma questão exatamente em cerca de um quarto dos casos. Como o problema envolve classificação multilabel, onde uma questão pode ter mais de um tema correto, essa é uma métrica bastante rigorosa. A Hamming Loss de 0,1090 representa a média de classificações incorretas por questão e, quanto menor esse valor, melhor o desempenho do modelo. Embora o F1-score macro tenha sido relativamente baixo (0,1822), indicando dificuldades em prever algumas classes menos representadas, a análise geral mostra que o modelo teve melhor desempenho nas classes mais frequentes. \n",
    "\n",
    "Conclui-se, portanto, que o modelo desenvolvido apresenta uma boa capacidade de classificar questões de Matemática do ENEM em seus respectivos temas centrais com base apenas no enunciado. A análise das curvas ROC e dos valores de AUC indicou resultados bastante satisfatórios para as classes mais representativas, enquanto a avaliação por métricas de precisão, revocação e F1-score revelou um desempenho consistente especialmente nas categorias com maior número de exemplos. Embora o F1-score macro tenha sido relativamente baixo, refletindo a dificuldade do modelo em lidar com classes menos frequentes, a acurácia multilabel exata de 24,66% é significativa diante da complexidade do problema multilabel, onde múltiplos temas podem ser associados a uma mesma questão. Esses resultados mostram que a combinação de técnicas de web scraping, processamento de linguagem natural e regressão logística multiclasses é uma abordagem viável e promissora para apoiar estudantes na organização de seus estudos. O trabalho também evidencia oportunidades claras para aprimoramento, como o balanceamento da base de dados, a expansão do número de exemplos e a experimentação com algoritmos mais robustos, buscando elevar a capacidade preditiva e a generalização do modelo em cenários educacionais reais."
   ]
  }
 ],
 "metadata": {
  "kernelspec": {
   "display_name": "Python 3",
   "language": "python",
   "name": "python3"
  },
  "language_info": {
   "codemirror_mode": {
    "name": "ipython",
    "version": 3
   },
   "file_extension": ".py",
   "mimetype": "text/x-python",
   "name": "python",
   "nbconvert_exporter": "python",
   "pygments_lexer": "ipython3",
   "version": "3.12.3"
  }
 },
 "nbformat": 4,
 "nbformat_minor": 5
}
